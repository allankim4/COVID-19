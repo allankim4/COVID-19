{
 "cells": [
  {
   "cell_type": "code",
   "execution_count": 7,
   "metadata": {},
   "outputs": [],
   "source": [
    "import pandas as pd\n",
    "import numpy as np\n",
    "import matplotlib.pyplot as plt\n",
    "import seaborn as sns\n",
    "import pandas_profiling\n",
    "import warnings\n",
    "import glob\n",
    "\n",
    "%matplotlib inline\n",
    "warnings.filterwarnings('ignore')"
   ]
  },
  {
   "cell_type": "code",
   "execution_count": 8,
   "metadata": {},
   "outputs": [],
   "source": [
    "path = 'archived_data/archived_daily_case_updates/*.csv'\n",
    "df = pd.DataFrame()\n",
    "for fname in glob.glob(path):\n",
    "    df = df.append(pd.read_csv(fname))\n"
   ]
  },
  {
   "cell_type": "code",
   "execution_count": null,
   "metadata": {},
   "outputs": [],
   "source": [
    "path = 'archived_data/archived_daily_case_updates/*.csv'\n",
    "df2 = pd.DataFrame()\n",
    "for fname in glob.glob(path):\n",
    "    df = df.append(pd.read_csv(fname))"
   ]
  },
  {
   "cell_type": "code",
   "execution_count": 9,
   "metadata": {},
   "outputs": [
    {
     "name": "stdout",
     "output_type": "stream",
     "text": [
      "<class 'pandas.core.frame.DataFrame'>\n",
      "Int64Index: 3039 entries, 0 to 71\n",
      "Data columns (total 9 columns):\n",
      " #   Column          Non-Null Count  Dtype  \n",
      "---  ------          --------------  -----  \n",
      " 0   Province/State  2242 non-null   object \n",
      " 1   Country/Region  3039 non-null   object \n",
      " 2   Last Update     3039 non-null   object \n",
      " 3   Confirmed       3010 non-null   float64\n",
      " 4   Deaths          2038 non-null   float64\n",
      " 5   Recovered       2162 non-null   float64\n",
      " 6   Suspected       88 non-null     float64\n",
      " 7   ConfnSusp       341 non-null    float64\n",
      " 8   Notes           4 non-null      object \n",
      "dtypes: float64(5), object(4)\n",
      "memory usage: 237.4+ KB\n"
     ]
    }
   ],
   "source": [
    "df.info()"
   ]
  },
  {
   "cell_type": "code",
   "execution_count": null,
   "metadata": {},
   "outputs": [],
   "source": []
  }
 ],
 "metadata": {
  "kernelspec": {
   "display_name": "Python 3",
   "language": "python",
   "name": "python3"
  },
  "language_info": {
   "codemirror_mode": {
    "name": "ipython",
    "version": 3
   },
   "file_extension": ".py",
   "mimetype": "text/x-python",
   "name": "python",
   "nbconvert_exporter": "python",
   "pygments_lexer": "ipython3",
   "version": "3.7.6"
  }
 },
 "nbformat": 4,
 "nbformat_minor": 2
}
